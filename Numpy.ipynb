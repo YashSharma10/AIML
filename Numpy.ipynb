{
  "nbformat": 4,
  "nbformat_minor": 0,
  "metadata": {
    "colab": {
      "provenance": [],
      "authorship_tag": "ABX9TyN2xNfYwe9+nBY588vhwoRb",
      "include_colab_link": true
    },
    "kernelspec": {
      "name": "python3",
      "display_name": "Python 3"
    },
    "language_info": {
      "name": "python"
    }
  },
  "cells": [
    {
      "cell_type": "markdown",
      "metadata": {
        "id": "view-in-github",
        "colab_type": "text"
      },
      "source": [
        "<a href=\"https://colab.research.google.com/github/YashSharma10/AIML/blob/main/Numpy.ipynb\" target=\"_parent\"><img src=\"https://colab.research.google.com/assets/colab-badge.svg\" alt=\"Open In Colab\"/></a>"
      ]
    },
    {
      "cell_type": "code",
      "source": [
        "import numpy as np"
      ],
      "metadata": {
        "id": "9cg1POnfG0xY"
      },
      "execution_count": 19,
      "outputs": []
    },
    {
      "cell_type": "code",
      "source": [
        "a = np.array([1,2,3,4])\n",
        "print(a)"
      ],
      "metadata": {
        "colab": {
          "base_uri": "https://localhost:8080/"
        },
        "id": "Q_kr4gd1H-Mf",
        "outputId": "0274f5ea-3ccf-49af-fff7-05a11cf7cd45"
      },
      "execution_count": 20,
      "outputs": [
        {
          "output_type": "stream",
          "name": "stdout",
          "text": [
            "[1 2 3 4]\n"
          ]
        }
      ]
    },
    {
      "cell_type": "code",
      "source": [
        "b = np.array([1.1,2.4,3,4])\n",
        "print(b)"
      ],
      "metadata": {
        "colab": {
          "base_uri": "https://localhost:8080/"
        },
        "id": "TNYDSJ7cI8zi",
        "outputId": "5ee9a0e4-f9a8-491c-c119-f80212d0f92f"
      },
      "execution_count": 25,
      "outputs": [
        {
          "output_type": "stream",
          "name": "stdout",
          "text": [
            "[1.1 2.4 3.  4. ]\n"
          ]
        }
      ]
    },
    {
      "cell_type": "code",
      "source": [
        "c = a + b\n",
        "print(c)"
      ],
      "metadata": {
        "colab": {
          "base_uri": "https://localhost:8080/"
        },
        "id": "ukzfVa56HHwI",
        "outputId": "5a2f6e12-ab04-4f05-f0b1-4d3f4d409e28"
      },
      "execution_count": 14,
      "outputs": [
        {
          "output_type": "stream",
          "name": "stdout",
          "text": [
            "[2.2 4.8 6.  8. ]\n"
          ]
        }
      ]
    },
    {
      "cell_type": "code",
      "source": [
        "c.sort()\n",
        "print(c)"
      ],
      "metadata": {
        "colab": {
          "base_uri": "https://localhost:8080/"
        },
        "id": "EoQ6Fb3yIHq5",
        "outputId": "bfb5a69a-2dce-46ff-b750-b19aa789fd5e"
      },
      "execution_count": 22,
      "outputs": [
        {
          "output_type": "stream",
          "name": "stdout",
          "text": [
            "[2.2 4.8 6.  8. ]\n"
          ]
        }
      ]
    },
    {
      "cell_type": "code",
      "source": [
        "d = np.array([(1,2,3) , (4,5,6)])\n",
        "print(d)"
      ],
      "metadata": {
        "colab": {
          "base_uri": "https://localhost:8080/"
        },
        "id": "9_ii6oYEIKJu",
        "outputId": "373d1f60-a044-4869-f296-f2179306d764"
      },
      "execution_count": 28,
      "outputs": [
        {
          "output_type": "stream",
          "name": "stdout",
          "text": [
            "[[1 2 3]\n",
            " [4 5 6]]\n"
          ]
        }
      ]
    },
    {
      "cell_type": "code",
      "source": [
        "e = np.array([(12,34,55) , (41,25,46)])\n",
        "print(e)"
      ],
      "metadata": {
        "colab": {
          "base_uri": "https://localhost:8080/"
        },
        "id": "ccVZoGvwIxee",
        "outputId": "6c7a8fc4-bc3e-4e5a-98a5-dcc8711664e8"
      },
      "execution_count": 29,
      "outputs": [
        {
          "output_type": "stream",
          "name": "stdout",
          "text": [
            "[[12 34 55]\n",
            " [41 25 46]]\n"
          ]
        }
      ]
    },
    {
      "cell_type": "code",
      "source": [
        "f = d + e\n",
        "print(f)"
      ],
      "metadata": {
        "colab": {
          "base_uri": "https://localhost:8080/"
        },
        "id": "FPRTevs_JgQ6",
        "outputId": "0c22e898-0599-4364-bd4c-2183c487757e"
      },
      "execution_count": 31,
      "outputs": [
        {
          "output_type": "stream",
          "name": "stdout",
          "text": [
            "[[13 36 58]\n",
            " [45 30 52]]\n"
          ]
        }
      ]
    },
    {
      "cell_type": "code",
      "source": [
        "g = np.zeros((3,3))\n",
        "print(g)"
      ],
      "metadata": {
        "colab": {
          "base_uri": "https://localhost:8080/"
        },
        "id": "DvMY6yKEJizo",
        "outputId": "2d9965d8-adc7-40de-b87c-9003d3aed7f2"
      },
      "execution_count": 33,
      "outputs": [
        {
          "output_type": "stream",
          "name": "stdout",
          "text": [
            "[[0. 0. 0.]\n",
            " [0. 0. 0.]\n",
            " [0. 0. 0.]]\n"
          ]
        }
      ]
    },
    {
      "cell_type": "code",
      "source": [
        "h = np.arange(10,25,5)\n",
        "print(h)"
      ],
      "metadata": {
        "colab": {
          "base_uri": "https://localhost:8080/"
        },
        "id": "BmgbEAWXKizf",
        "outputId": "5aa838a9-525d-4fc1-f20e-6ff45f120ec2"
      },
      "execution_count": 34,
      "outputs": [
        {
          "output_type": "stream",
          "name": "stdout",
          "text": [
            "[10 15 20]\n"
          ]
        }
      ]
    },
    {
      "cell_type": "code",
      "source": [
        "i = np.linspace(0,2,9)\n",
        "print(i)"
      ],
      "metadata": {
        "colab": {
          "base_uri": "https://localhost:8080/"
        },
        "id": "TY5tmc4ILdXK",
        "outputId": "12e99ef1-90ba-449f-d572-9c6210393d60"
      },
      "execution_count": 35,
      "outputs": [
        {
          "output_type": "stream",
          "name": "stdout",
          "text": [
            "[0.   0.25 0.5  0.75 1.   1.25 1.5  1.75 2.  ]\n"
          ]
        }
      ]
    },
    {
      "cell_type": "code",
      "source": [
        "j = np.full((2,2),7)\n",
        "print(j)"
      ],
      "metadata": {
        "colab": {
          "base_uri": "https://localhost:8080/"
        },
        "id": "sgT4tgUIMPbT",
        "outputId": "7287ae74-42a2-4b8a-8fef-f780019b567d"
      },
      "execution_count": 36,
      "outputs": [
        {
          "output_type": "stream",
          "name": "stdout",
          "text": [
            "[[7 7]\n",
            " [7 7]]\n"
          ]
        }
      ]
    },
    {
      "cell_type": "code",
      "source": [
        "k = np.eye(2) # identity matrix\n",
        "print(k)"
      ],
      "metadata": {
        "colab": {
          "base_uri": "https://localhost:8080/"
        },
        "id": "cF2IN2RpNKPk",
        "outputId": "b7615a0d-9351-41ca-9afc-e6ec5c3dbbbb"
      },
      "execution_count": 37,
      "outputs": [
        {
          "output_type": "stream",
          "name": "stdout",
          "text": [
            "[[1. 0.]\n",
            " [0. 1.]]\n"
          ]
        }
      ]
    },
    {
      "cell_type": "code",
      "source": [
        "l = np.random.random((2,2))\n",
        "print(l)"
      ],
      "metadata": {
        "colab": {
          "base_uri": "https://localhost:8080/"
        },
        "id": "XTL5s1t3NbBI",
        "outputId": "28411334-1e06-4564-df22-ad9bf5d59d45"
      },
      "execution_count": 39,
      "outputs": [
        {
          "output_type": "stream",
          "name": "stdout",
          "text": [
            "[[0.29162595 0.59471315]\n",
            " [0.66652279 0.61651581]]\n"
          ]
        }
      ]
    },
    {
      "cell_type": "code",
      "source": [],
      "metadata": {
        "id": "LqgCyVdHOG0h"
      },
      "execution_count": null,
      "outputs": []
    }
  ]
}