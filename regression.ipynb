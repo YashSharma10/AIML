{
 "cells": [
  {
   "cell_type": "code",
   "execution_count": 1,
   "metadata": {},
   "outputs": [
    {
     "name": "stdout",
     "output_type": "stream",
     "text": [
      "Raw Dataset:\n",
      "   Area (sq ft)  Bedrooms  Age (years)     Price\n",
      "0          1500         3            5   7500000\n",
      "1          2000         4           10  10000000\n",
      "2          2500         3           15  11000000\n",
      "3          3000         5           20  15000000\n",
      "4          3500         4           25  14000000\n",
      "5          4000         5           30  16000000\n",
      "6          1000         2            3   5000000\n",
      "7          1200         2            7   6000000\n",
      "8          1800         3           10   8500000\n",
      "9          2200         3           15  10500000\n",
      "\n",
      "Performance Metrics:\n",
      "Mean Squared Error: 194862425827.20703\n",
      "R^2 Score: 0.6535779096405208\n",
      "\n",
      "Model Coefficients:\n",
      "Intercept: 10433757.522884741\n",
      "Coefficients: [1502959.53698032 1486491.96670666  659882.57367654]\n",
      "\n",
      "Predicted Price for new input [[2800, 4, 12]]: 12002370.656956457\n"
     ]
    }
   ],
   "source": [
    "# Importing required libraries\n",
    "import pandas as pd\n",
    "from sklearn.model_selection import train_test_split\n",
    "from sklearn.preprocessing import StandardScaler\n",
    "from sklearn.linear_model import LinearRegression\n",
    "from sklearn.metrics import mean_squared_error, r2_score\n",
    "\n",
    "# Creating a small dataset manually\n",
    "data = pd.DataFrame({\n",
    "    'Area (sq ft)': [1500, 2000, 2500, 3000, 3500, 4000, 1000, 1200, 1800, 2200],\n",
    "    'Bedrooms': [3, 4, 3, 5, 4, 5, 2, 2, 3, 3],\n",
    "    'Age (years)': [5, 10, 15, 20, 25, 30, 3, 7, 10, 15],\n",
    "    'Price': [7500000, 10000000, 11000000, 15000000, 14000000, 16000000, 5000000, 6000000, 8500000, 10500000]\n",
    "})\n",
    "\n",
    "# Displaying the raw dataset\n",
    "print(\"Raw Dataset:\")\n",
    "print(data)\n",
    "\n",
    "# Splitting the dataset into features (X) and target (y)\n",
    "X = data[['Area (sq ft)', 'Bedrooms', 'Age (years)']]\n",
    "y = data['Price']\n",
    "\n",
    "# Data preprocessing: Standardizing the features (scaling the data)\n",
    "scaler = StandardScaler()\n",
    "X_scaled = scaler.fit_transform(X)\n",
    "\n",
    "# Splitting the data into training and testing sets\n",
    "X_train, X_test, y_train, y_test = train_test_split(X_scaled, y, test_size=0.2, random_state=42)\n",
    "\n",
    "# Building the Linear Regression model\n",
    "model = LinearRegression()\n",
    "model.fit(X_train, y_train)\n",
    "\n",
    "# Predicting on the test data\n",
    "y_pred = model.predict(X_test)\n",
    "\n",
    "# Calculating performance metrics\n",
    "mse = mean_squared_error(y_test, y_pred)\n",
    "r2 = r2_score(y_test, y_pred)\n",
    "\n",
    "print(\"\\nPerformance Metrics:\")\n",
    "print(f\"Mean Squared Error: {mse}\")\n",
    "print(f\"R^2 Score: {r2}\")\n",
    "\n",
    "# Displaying model coefficients\n",
    "print(\"\\nModel Coefficients:\")\n",
    "print(f\"Intercept: {model.intercept_}\")\n",
    "print(f\"Coefficients: {model.coef_}\")\n",
    "\n",
    "# Making a prediction for a new input\n",
    "new_input = pd.DataFrame({'Area (sq ft)': [2800], 'Bedrooms': [4], 'Age (years)': [12]})\n",
    "new_input_scaled = scaler.transform(new_input)  # Applying the same scaling as the training data\n",
    "predicted_price = model.predict(new_input_scaled)\n",
    "print(f\"\\nPredicted Price for new input {new_input.values.tolist()}: {predicted_price[0]}\")\n"
   ]
  }
 ],
 "metadata": {
  "kernelspec": {
   "display_name": "Python 3",
   "language": "python",
   "name": "python3"
  },
  "language_info": {
   "codemirror_mode": {
    "name": "ipython",
    "version": 3
   },
   "file_extension": ".py",
   "mimetype": "text/x-python",
   "name": "python",
   "nbconvert_exporter": "python",
   "pygments_lexer": "ipython3",
   "version": "3.12.6"
  }
 },
 "nbformat": 4,
 "nbformat_minor": 2
}
